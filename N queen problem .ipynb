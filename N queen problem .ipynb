{
 "cells": [
  {
   "cell_type": "code",
   "execution_count": 1,
   "id": "c5205d75",
   "metadata": {},
   "outputs": [
    {
     "name": "stdout",
     "output_type": "stream",
     "text": [
      "1 0 0 0 0 0 0 0 \n",
      "0 0 0 0 0 0 1 0 \n",
      "0 0 0 0 1 0 0 0 \n",
      "0 0 0 0 0 0 0 1 \n",
      "0 1 0 0 0 0 0 0 \n",
      "0 0 0 1 0 0 0 0 \n",
      "0 0 0 0 0 1 0 0 \n",
      "0 0 1 0 0 0 0 0 \n"
     ]
    },
    {
     "data": {
      "text/plain": [
       "True"
      ]
     },
     "execution_count": 1,
     "metadata": {},
     "output_type": "execute_result"
    }
   ],
   "source": [
    "\n",
    "\n",
    "N = 8\n",
    "def printSolution(board):\n",
    "\tfor i in range(N):\n",
    "\t\tfor j in range(N):\n",
    "\t\t\tprint(board[i][j], end = \" \")\n",
    "\t\tprint()\n",
    "def isSafe(row, col, slashCode, backslashCode,\n",
    "\t\trowLookup, slashCodeLookup,\n",
    "\t\t\t\t\tbackslashCodeLookup):\n",
    "\tif (slashCodeLookup[slashCode[row][col]] or\n",
    "\t\tbackslashCodeLookup[backslashCode[row][col]] or\n",
    "\t\trowLookup[row]):\n",
    "\t\treturn False\n",
    "\treturn True\n",
    "def solveNQueensUtil(board, col, slashCode, backslashCode,\n",
    "\t\t\t\t\trowLookup, slashCodeLookup,\n",
    "\t\t\t\t\tbackslashCodeLookup):\n",
    "\n",
    "\tif(col >= N):\n",
    "\t\treturn True\n",
    "\tfor i in range(N):\n",
    "\t\tif(isSafe(i, col, slashCode, backslashCode,\n",
    "\t\t\t\trowLookup, slashCodeLookup,\n",
    "\t\t\t\tbackslashCodeLookup)):\n",
    "\t\t\tboard[i][col] = 1\n",
    "\t\t\trowLookup[i] = True\n",
    "\t\t\tslashCodeLookup[slashCode[i][col]] = True\n",
    "\t\t\tbackslashCodeLookup[backslashCode[i][col]] = True\n",
    "\t\t\tif(solveNQueensUtil(board, col + 1,\n",
    "\t\t\t\t\t\t\t\tslashCode, backslashCode,\n",
    "\t\t\t\t\t\t\t\trowLookup, slashCodeLookup,\n",
    "\t\t\t\t\t\t\t\tbackslashCodeLookup)):\n",
    "\t\t\t\treturn True \n",
    "\t\t\tboard[i][col] = 0\n",
    "\t\t\trowLookup[i] = False\n",
    "\t\t\tslashCodeLookup[slashCode[i][col]] = False\n",
    "\t\t\tbackslashCodeLookup[backslashCode[i][col]] = False\n",
    "\treturn False\n",
    "def solveNQueens():\n",
    "\tboard = [[0 for i in range(N)]\n",
    "\t\t\t\tfor j in range(N)]\n",
    "\t\n",
    "\tslashCode = [[0 for i in range(N)]\n",
    "\t\t\t\t\tfor j in range(N)]\n",
    "\tbackslashCode = [[0 for i in range(N)]\n",
    "\t\t\t\t\t\tfor j in range(N)]\n",
    "\t\n",
    "\trowLookup = [False] * N\n",
    "\t\n",
    "\tx = 2 * N - 1\n",
    "\tslashCodeLookup = [False] * x\n",
    "\tbackslashCodeLookup = [False] * x\n",
    "\tfor rr in range(N):\n",
    "\t\tfor cc in range(N):\n",
    "\t\t\tslashCode[rr][cc] = rr + cc\n",
    "\t\t\tbackslashCode[rr][cc] = rr - cc + 7\n",
    "\t\n",
    "\tif(solveNQueensUtil(board, 0, slashCode, backslashCode,\n",
    "\t\t\t\t\t\trowLookup, slashCodeLookup,\n",
    "\t\t\t\t\t\tbackslashCodeLookup) == False):\n",
    "\t\tprint(\"Solution does not exist\")\n",
    "\t\treturn False\n",
    "\tprintSolution(board)\n",
    "\treturn True\n",
    "solveNQueens()\n",
    "\n",
    "\n"
   ]
  },
  {
   "cell_type": "code",
   "execution_count": null,
   "id": "91444997",
   "metadata": {},
   "outputs": [],
   "source": []
  }
 ],
 "metadata": {
  "kernelspec": {
   "display_name": "Python 3 (ipykernel)",
   "language": "python",
   "name": "python3"
  },
  "language_info": {
   "codemirror_mode": {
    "name": "ipython",
    "version": 3
   },
   "file_extension": ".py",
   "mimetype": "text/x-python",
   "name": "python",
   "nbconvert_exporter": "python",
   "pygments_lexer": "ipython3",
   "version": "3.10.9"
  }
 },
 "nbformat": 4,
 "nbformat_minor": 5
}

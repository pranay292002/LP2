{
 "cells": [
  {
   "cell_type": "code",
   "execution_count": null,
   "id": "02737dcd",
   "metadata": {},
   "outputs": [
    {
     "name": "stdout",
     "output_type": "stream",
     "text": [
      "Hello, what is your name? pranay\n",
      "Hello pranay\n",
      "How are you today? fine\n",
      "I'm feeling good too!\n"
     ]
    }
   ],
   "source": [
    "import time\n",
    "import random\n",
    "name = input(\"Hello, what is your name? \")\n",
    "time.sleep(2)\n",
    "print(\"Hello \" + name)\n",
    "feeling = input(\"How are you today? \")\n",
    "time.sleep(1)\n",
    "if \"good\" or \"fine\" in feeling:\n",
    " print(\"I'm feeling good too!\")\n",
    "else:\n",
    " print(\"I'm sorry to hear that!\")\n",
    "time.sleep(1)\n",
    "favcolour = input(\"What is your favourite colour? \")\n",
    "colours = [\"Red\",\"Green\",\"Blue\"]\n",
    "time.sleep(1)\n",
    "print(\"My favourite colour is \" + random.choice(colours))\n",
    "mood = input(\"What are you doing today? \")\n",
    "mood = [\"dancing\", \"reading\", \"playing\", \"watching TV\", \"hiking\"]\n",
    "time.sleep(1)\n",
    "print(\"I feel like \" + random.choice(mood) + \" today\")\n",
    "love=input(\"Do you have a girlfriend? \")\n",
    "love = [\"Yes\", \"No\"]\n",
    "time.sleep(1)\n",
    "input(\"cool\")\n",
    "food = input(\"Which food type do you like most? \")\n",
    "food=[\"Asian\", \"Japanese\", \"Italian\", \"Chinese\", \"Latin\"]\n",
    "time.sleep(1)\n",
    "print(\"I mostly like \" + random.choice(food))\n",
    "sport = input(\"Which sport do you love to watch the most? \")\n",
    "sport=[\"cirket\", \"Baseball\", \"Soccer\", \"Rugby\", \"Athletics\"]\n",
    "time.sleep(1)\n",
    "print(\"I love to watch \" + random.choice(sport))\n",
    "time.sleep(1)\n",
    "print(\"I love talking with you!\")\n",
    "peak = input(\"Do you know the height of world's tallest mountain? \")\n",
    "time.sleep(1)\n",
    "print(\"8848\")\n",
    "print(\"Anyone can answer that.\")\n",
    "planet = input(\"How many planet are there in this solar system\")\n",
    "time.sleep(1)\n",
    "print(\"I guess there are 8 planets\")\n",
    "horscope = input(\"What is the name of your horscope? \")\n",
    "horscope=[\"Leo\", \"Cancer\", \"Capricon\", \"Pisces\", \"Virgo\"]\n",
    "time.sleep(1)\n",
    "print(\"My horscope name is \" + random.choice(horscope))\n",
    "exe = input(\"How many sit up can you do? \")\n",
    "exe=[\"15\", \"34\", \"25\", \"40\", \"50\"]\n",
    "time.sleep(1)\n",
    "print(\"I can do around \" + random.choice(exe))\n",
    "tired = input(\"I am feeling tired today.\")\n",
    "time.sleep(1)\n",
    "print(\"See you! Have a nice day.\")"
   ]
  },
  {
   "cell_type": "code",
   "execution_count": null,
   "id": "48bd96cc",
   "metadata": {},
   "outputs": [],
   "source": []
  }
 ],
 "metadata": {
  "kernelspec": {
   "display_name": "Python 3 (ipykernel)",
   "language": "python",
   "name": "python3"
  },
  "language_info": {
   "codemirror_mode": {
    "name": "ipython",
    "version": 3
   },
   "file_extension": ".py",
   "mimetype": "text/x-python",
   "name": "python",
   "nbconvert_exporter": "python",
   "pygments_lexer": "ipython3",
   "version": "3.10.9"
  }
 },
 "nbformat": 4,
 "nbformat_minor": 5
}
